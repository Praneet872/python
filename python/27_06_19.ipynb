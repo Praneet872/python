{
 "cells": [
  {
   "cell_type": "markdown",
   "metadata": {
    "colab_type": "text",
    "id": "ef9zNAfWCiPz"
   },
   "source": [
    "# File Handling in Python\n",
    "##### File:- Document containing information residing on the permanent storage types -- Doc, Pdf, Text, Csv Files and etc..\n",
    "\n",
    "File I/O: Input and Output\n",
    "                 Keyboard as input\n",
    "                 \n",
    "                 Screen as output\n",
    "                 \n",
    "                 Read/Write\n",
    "                 \n",
    "                 open() -- Open the file\n",
    "                 close() -- Close the file\n",
    "                 \n",
    "                 open(filename,'Mode of the file')\n",
    "                 \n",
    "'r'  -- It opens file for reading\n",
    "'w' -- The mode open the file writing\n",
    "         If the file name is not present,\n",
    "         it creates a new file and write some data into it"
   ]
  },
  {
   "cell_type": "markdown",
   "metadata": {
    "colab": {
     "base_uri": "https://localhost:8080/",
     "height": 35
    },
    "colab_type": "code",
    "id": "xjgNn_WiDcqX",
    "outputId": "46e023e0-a39a-4029-ed87-522fe25cd0f4"
   },
   "source": [
    "#Function to Create a file and write some data\n",
    "def createfile(filename):\n",
    "  f=open(filename,'w')\n",
    "  for i in range(10):\n",
    "    f.write('This is %d Line\\n' % i)\n",
    "  print('File is created successfully and Data is written')\n",
    "  f.close()\n",
    "  return\n",
    "createfile('file1.txt')"
   ]
  },
  {
   "cell_type": "code",
   "execution_count": 0,
   "metadata": {
    "colab": {
     "base_uri": "https://localhost:8080/",
     "height": 208
    },
    "colab_type": "code",
    "id": "oKBW-AlrGmT8",
    "outputId": "0e73d934-83ef-4cc3-8416-ee5d0ac1c4e2"
   },
   "outputs": [
    {
     "name": "stdout",
     "output_type": "stream",
     "text": [
      "This is 0 Line\n",
      "This is 1 Line\n",
      "This is 2 Line\n",
      "This is 3 Line\n",
      "This is 4 Line\n",
      "This is 5 Line\n",
      "This is 6 Line\n",
      "This is 7 Line\n",
      "This is 8 Line\n",
      "This is 9 Line\n",
      "\n"
     ]
    }
   ],
   "source": [
    "#Function reading the file data\n",
    "def readfile(filename):\n",
    "  f=open(filename,'r')\n",
    "  if f.mode == 'r':\n",
    "    x=f.read()\n",
    "    print(x)\n",
    "  f.close()\n",
    "  return\n",
    "readfile('file1.txt')"
   ]
  },
  {
   "cell_type": "code",
   "execution_count": 0,
   "metadata": {
    "colab": {
     "base_uri": "https://localhost:8080/",
     "height": 35
    },
    "colab_type": "code",
    "id": "oK4i841LJLFp",
    "outputId": "95c754c0-79b0-4fb6-aa67-6254491a8b11"
   },
   "outputs": [
    {
     "name": "stdout",
     "output_type": "stream",
     "text": [
      "File is created successfully and Data is written\n"
     ]
    }
   ],
   "source": [
    "def createfile(filename):\n",
    "  f=open(filename,'w')\n",
    "  for i in range(10):\n",
    "    f.write('Test %d Line\\n' % i)\n",
    "  print('File is created successfully and Data is written')\n",
    "  f.close()\n",
    "  return\n",
    "createfile('file1.txt')"
   ]
  },
  {
   "cell_type": "code",
   "execution_count": 0,
   "metadata": {
    "colab": {
     "base_uri": "https://localhost:8080/",
     "height": 191
    },
    "colab_type": "code",
    "id": "jkBNeT-NXFXq",
    "outputId": "77b6a9c9-63bb-4a0b-8888-f5f160bbea5b"
   },
   "outputs": [
    {
     "name": "stdout",
     "output_type": "stream",
     "text": [
      "Test 0 Line\n",
      "Test 1 Line\n",
      "Test 2 Line\n",
      "Test 3 Line\n",
      "Test 4 Line\n",
      "Test 5 Line\n",
      "Test 6 Line\n",
      "Test 7 Line\n",
      "Test 8 Line\n",
      "Test 9 Line\n"
     ]
    }
   ],
   "source": [
    "cat file1.txt"
   ]
  },
  {
   "cell_type": "code",
   "execution_count": 2,
   "metadata": {
    "colab": {},
    "colab_type": "code",
    "id": "yblJoKY5XczT"
   },
   "outputs": [],
   "source": [
    "#Data to append\n",
    "#Functions to append the data to existing file\n",
    "def appenddata(filename):\n",
    "  f=open(filename,'a')\n",
    "  f.write('New line 1\\n')\n",
    "  f.write('New line')\n",
    "  f.close\n",
    "  return\n",
    "appenddata('file1.txt')"
   ]
  },
  {
   "cell_type": "code",
   "execution_count": 0,
   "metadata": {
    "colab": {
     "base_uri": "https://localhost:8080/",
     "height": 243
    },
    "colab_type": "code",
    "id": "CRvwZhJvYp2J",
    "outputId": "5f0e1415-85e0-4755-85fa-33f07be0d8c3"
   },
   "outputs": [
    {
     "name": "stdout",
     "output_type": "stream",
     "text": [
      "Test 0 Line\n",
      "Test 1 Line\n",
      "Test 2 Line\n",
      "Test 3 Line\n",
      "Test 4 Line\n",
      "Test 5 Line\n",
      "Test 6 Line\n",
      "Test 7 Line\n",
      "Test 8 Line\n",
      "Test 9 Line\n",
      "New line 1\n",
      "New lineNew line 1\n",
      "New line"
     ]
    }
   ],
   "source": [
    "cat file1.txt"
   ]
  },
  {
   "cell_type": "code",
   "execution_count": 4,
   "metadata": {},
   "outputs": [
    {
     "name": "stdout",
     "output_type": "stream",
     "text": [
      "4\n"
     ]
    }
   ],
   "source": [
    "#word count using file I/O Python\n",
    "def dataanalysiswordcount(filename,word):\n",
    "  f=open(filename,'r')\n",
    "  if f.mode == 'r':\n",
    "    x=f.read()\n",
    "    lst=x.split()\n",
    "  cnt=lst.count(word)\n",
    "  return cnt\n",
    "print(dataanalysiswordcount('file1.txt','line'))"
   ]
  },
  {
   "cell_type": "code",
   "execution_count": 5,
   "metadata": {},
   "outputs": [
    {
     "name": "stdout",
     "output_type": "stream",
     "text": [
      "177\n"
     ]
    }
   ],
   "source": [
    "#Function to count of characters in the file\n",
    "def countcharacter(filename):\n",
    "  f=open(filename,'r')\n",
    "  if f.mode=='r':\n",
    "    x=f.read()\n",
    "    lst=list(x)\n",
    "  return len(lst)\n",
    "print(countcharacter('file1.txt'))"
   ]
  },
  {
   "cell_type": "code",
   "execution_count": 28,
   "metadata": {},
   "outputs": [
    {
     "name": "stdout",
     "output_type": "stream",
     "text": [
      "26\n"
     ]
    }
   ],
   "source": [
    "def countcharacter(filename):\n",
    "    cnt=0\n",
    "    lst=chr(0)\n",
    "    f=open(filename,'r')\n",
    "    if f.mode=='r':\n",
    "        x=f.read()\n",
    "        lst=list(x)\n",
    "    for i in lst:\n",
    "        if i.isupper():\n",
    "            cnt+=1\n",
    "    return cnt\n",
    "print(countcharacter('file1.txt'))"
   ]
  },
  {
   "cell_type": "code",
   "execution_count": 29,
   "metadata": {},
   "outputs": [
    {
     "data": {
      "text/plain": [
       "14"
      ]
     },
     "execution_count": 29,
     "metadata": {},
     "output_type": "execute_result"
    }
   ],
   "source": [
    "def countlines(filename):\n",
    "    cnt=0\n",
    "    lst=chr(0)\n",
    "    f=open(filename,'r')\n",
    "    if f.mode=='r':\n",
    "        x=f.read()\n",
    "        lst=x.split('\\n')\n",
    "    return len(lst)\n",
    "countlines('file1.txt')"
   ]
  },
  {
   "cell_type": "markdown",
   "metadata": {},
   "source": [
    "### Regular Expressions\n",
    "\n",
    "* Pattern Matching\n",
    "* Symbolic Notation of a pattern\n",
    "   * Pattern(RE) represents the set of the values that a given pattern\n",
    "* [0-9] --> Any Digit\n",
    "* [a-z] --> Any lower case characters\n",
    "* [A-Z] --> Any upper case characters\n",
    "* [2468] --> Any single digit multiples of 2\n",
    "* ^[0-9] --> Only single digit number\n",
    "   * ^ symbol is used for start of regular expression\n",
    "   * $ symbol is used for end of regular expression\n",
    "\n",
    "* ^[0-9]{3}$ --> Regular Expression which will accept only 3 digit number\n",
    "\n",
    "* ^[a-z]{5}$ --> It only accepts the 5 character string that to lower case characters\n",
    "\n",
    "* ^[a-zA-Z]{6}$ --> A string can be a upper / lower case chars and len of 6\n",
    "\n",
    "* ^[a-zA-Z]{6-15}$ --> A string min of  6 characters and max of 15 characters(upper and lower case chars)\n",
    "\n",
    "* ^[a-zA-Z0-9]{6-15}$ --> Upper, lower and digits"
   ]
  },
  {
   "cell_type": "markdown",
   "metadata": {},
   "source": [
    "#Regular Expression for Indian Mobile Number\n",
    "#Validation for EmailID username@domainname.extension\n",
    "\n",
    "#9876543210 -- First digit [6-9][0-9]\n",
    "\n",
    "#09876543210 -- First Digit Zero second digit[6-9] LAst nine digits[0-9] \n",
    "\n",
    "#+919876543210 -- First + sign, Second digit 9, third digit 1, fourth digit [6-9] and rest of the digits [0-9]"
   ]
  },
  {
   "cell_type": "code",
   "execution_count": 32,
   "metadata": {},
   "outputs": [
    {
     "name": "stdout",
     "output_type": "stream",
     "text": [
      "True\n",
      "False\n",
      "True\n",
      "True\n"
     ]
    }
   ],
   "source": [
    "import re\n",
    "def phonenumbervalidate(phone):\n",
    "  pattern='^[6-9][0-9]{9}$|^[0][6-9][0-9]{9}$|^[+][9][1][6-9][0-9]{9}$'\n",
    "  phone=str(phone)\n",
    "  if re.match(pattern,phone):\n",
    "    return True\n",
    "  return False\n",
    "print(phonenumbervalidate('9545246472'))\n",
    "print(phonenumbervalidate('9454845'))\n",
    "print(phonenumbervalidate('08451463549'))\n",
    "print(phonenumbervalidate('+919845146284'))"
   ]
  },
  {
   "cell_type": "code",
   "execution_count": 2,
   "metadata": {},
   "outputs": [
    {
     "name": "stdout",
     "output_type": "stream",
     "text": [
      "True\n",
      "False\n"
     ]
    }
   ],
   "source": [
    "# RE -- Validation of Roll Number\n",
    "#152U1A0501\n",
    "import re\n",
    "def validaterollnumber(number):\n",
    "  number=str(number)\n",
    "  pattern='^[1][5][2][U][1][A][0][1-9][0-6][0-9]$'\n",
    "  if re.match(pattern,number):\n",
    "    return True\n",
    "  return False\n",
    "print(validaterollnumber('152U1A0555'))\n",
    "print(validaterollnumber('152U1A0485'))"
   ]
  },
  {
   "cell_type": "code",
   "execution_count": 3,
   "metadata": {},
   "outputs": [
    {
     "name": "stdout",
     "output_type": "stream",
     "text": [
      "True\n",
      "False\n"
     ]
    }
   ],
   "source": [
    "# Validation for EmailID username@domainname.extension\n",
    "import re\n",
    "def validateemailid(email):\n",
    "  pattern='^[0-9a-z][0-9a-z._]{4,13}[0-9a-z][@][a-z0-9]{3,18}[.][a-z]{2,4}$'\n",
    "  if re.match(pattern,email):\n",
    "    return True\n",
    "  return False\n",
    "print(validateemailid('akash.2000@gmail.com'))\n",
    "print(validateemailid('akash$2000@gmail.com'))"
   ]
  },
  {
   "cell_type": "code",
   "execution_count": 4,
   "metadata": {},
   "outputs": [
    {
     "name": "stdout",
     "output_type": "stream",
     "text": [
      "True\n",
      "False\n"
     ]
    }
   ],
   "source": [
    "# Regular Expression -- Password\n",
    "# Parameters : [6-15]\n",
    "# Accept Lower case, upper case, spl symbols(@,%,#,!)\n",
    "import re \n",
    "def validatepassword(password):\n",
    "   pattern = \"^[a-zA-Z0-9!@#$]{6,15}$\"\n",
    "   if re.match(pattern,password):\n",
    "     return True\n",
    "   return False\n",
    "print(validatepassword('Akash@78#1'))\n",
    "print(validatepassword('akash*79'))"
   ]
  },
  {
   "cell_type": "markdown",
   "metadata": {},
   "source": [
    "### Assignment\n",
    "* File on the virtual machine or local machine\n",
    "* Need to write the data to the file(Name, EmailID, Mobile Number)\n",
    "* Need to return the count of lower case characters\n",
    "* Need to return the count of digits\n",
    "* Need to return th count of spl characters\n",
    "* Need to create a file with these parametes name, EmailID, Mobile Number\n",
    "   * Validate the EmailID\n",
    "   * Validate the Mobile Number"
   ]
  },
  {
   "cell_type": "code",
   "execution_count": 5,
   "metadata": {},
   "outputs": [
    {
     "name": "stdout",
     "output_type": "stream",
     "text": [
      "96\n"
     ]
    }
   ],
   "source": [
    "def countcharacter(filename):\n",
    "    cnt=0\n",
    "    lst=chr(0)\n",
    "    f=open(filename,'r')\n",
    "    if f.mode=='r':\n",
    "        x=f.read()\n",
    "        lst=list(x)\n",
    "    for i in lst:\n",
    "        if i.islower():\n",
    "            cnt+=1\n",
    "    return cnt\n",
    "print(countcharacter('file1.txt'))"
   ]
  },
  {
   "cell_type": "code",
   "execution_count": 6,
   "metadata": {},
   "outputs": [
    {
     "name": "stdout",
     "output_type": "stream",
     "text": [
      "13\n"
     ]
    }
   ],
   "source": [
    "def countcharacter(filename):\n",
    "    cnt=0\n",
    "    lst=chr(0)\n",
    "    f=open(filename,'r')\n",
    "    if f.mode=='r':\n",
    "        x=f.read()\n",
    "        lst=list(x)\n",
    "    for i in lst:\n",
    "        if i.isnumeric():\n",
    "            cnt+=1\n",
    "    return cnt\n",
    "print(countcharacter('file1.txt'))"
   ]
  },
  {
   "cell_type": "code",
   "execution_count": 13,
   "metadata": {},
   "outputs": [
    {
     "name": "stdout",
     "output_type": "stream",
     "text": [
      "0\n"
     ]
    }
   ],
   "source": [
    "def countcharacter(filename):\n",
    "    cnt=0\n",
    "    lst=chr(0)\n",
    "    f=open(filename,'r')\n",
    "    if f.mode=='r':\n",
    "        x=f.read()\n",
    "        lst=list(x)\n",
    "    for i in lst:\n",
    "        if i.isnumeric():\n",
    "            break\n",
    "        elif i.isalpha():\n",
    "            break\n",
    "        else: \n",
    "            cnt+=1\n",
    "    return cnt\n",
    "print(countcharacter('file1.txt'))"
   ]
  },
  {
   "cell_type": "code",
   "execution_count": 23,
   "metadata": {},
   "outputs": [
    {
     "name": "stdout",
     "output_type": "stream",
     "text": [
      "File is created successfully and Data is written\n"
     ]
    }
   ],
   "source": [
    "def createfile(filename):\n",
    "  f=open(filename,'w')\n",
    "  print('File is created successfully and Data is written')\n",
    "  f.close()\n",
    "  return\n",
    "createfile('file3.txt')"
   ]
  },
  {
   "cell_type": "code",
   "execution_count": null,
   "metadata": {},
   "outputs": [],
   "source": [
    "def appenddata(filename,name,number,email):\n",
    "  f=open(filename,'a')\n",
    "  f.write(' Name:%s\\t'%name)\n",
    "  f.write(' Number:%s\\t'%number)\n",
    "  f.write(' Email:%s\\t'%email)\n",
    "  f.close\n",
    "  return\n",
    "name=input('Enter name')\n",
    "number=input('Enter number')\n",
    "phonenumbervalidate(number)\n",
    "email=input('Enter email')\n",
    "validateemailid(email)\n",
    "import re\n",
    "def phonenumbervalidate(number):\n",
    "  pattern='^[6-9][0-9]{9}$|^[0][6-9][0-9]{9}$|^[+][9][1][6-9][0-9]{9}$'\n",
    "  phone=str(number)\n",
    "  if re.match(pattern,number):\n",
    "    return \n",
    "  return print('incorrect number restart the process ')\n",
    "def validateemailid(email):\n",
    "  pattern='^[0-9a-z][0-9a-z._]{4,13}[0-9a-z][@][a-z0-9]{3,18}[.][a-z]{2,4}$'\n",
    "  if re.match(pattern,email):\n",
    "    return \n",
    "  return print('incorrect email restart the process')"
   ]
  },
  {
   "cell_type": "code",
   "execution_count": 22,
   "metadata": {
    "collapsed": true
   },
   "outputs": [
    {
     "ename": "SyntaxError",
     "evalue": "invalid syntax (<ipython-input-22-97efedef8a48>, line 1)",
     "output_type": "error",
     "traceback": [
      "\u001b[1;36m  File \u001b[1;32m\"<ipython-input-22-97efedef8a48>\"\u001b[1;36m, line \u001b[1;32m1\u001b[0m\n\u001b[1;33m    sudo nano file3.txt\u001b[0m\n\u001b[1;37m            ^\u001b[0m\n\u001b[1;31mSyntaxError\u001b[0m\u001b[1;31m:\u001b[0m invalid syntax\n"
     ]
    }
   ],
   "source": [
    "cat file3.txt"
   ]
  },
  {
   "cell_type": "code",
   "execution_count": null,
   "metadata": {},
   "outputs": [],
   "source": []
  }
 ],
 "metadata": {
  "colab": {
   "collapsed_sections": [],
   "name": "27/06/19.ipynb",
   "provenance": [],
   "version": "0.3.2"
  },
  "kernelspec": {
   "display_name": "Python 3",
   "language": "python",
   "name": "python3"
  },
  "language_info": {
   "codemirror_mode": {
    "name": "ipython",
    "version": 3
   },
   "file_extension": ".py",
   "mimetype": "text/x-python",
   "name": "python",
   "nbconvert_exporter": "python",
   "pygments_lexer": "ipython3",
   "version": "3.7.3"
  }
 },
 "nbformat": 4,
 "nbformat_minor": 1
}
