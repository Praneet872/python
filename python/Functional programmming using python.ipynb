{
 "cells": [
  {
   "cell_type": "code",
   "execution_count": null,
   "metadata": {},
   "outputs": [],
   "source": [
    "def printnnaturalnumbers(n):\n",
    "    cnt=1\n",
    "    while(cnt<=n):\n",
    "        print(cnt,end=\"  \")\n",
    "        cnt=cnt+1\n",
    "    print()\n",
    "    return\n",
    "printnnaturalnumbers(9)\n",
    "printnnaturalnumbers(15)"
   ]
  },
  {
   "cell_type": "code",
   "execution_count": 8,
   "metadata": {},
   "outputs": [
    {
     "name": "stdout",
     "output_type": "stream",
     "text": [
      "120\n",
      "3628800\n",
      "2432902008176640000\n"
     ]
    }
   ],
   "source": [
    "def findfact(n):\n",
    "    fact=1\n",
    "    while(n!=0):\n",
    "        fact=fact*n\n",
    "        n=n-1\n",
    "    return fact\n",
    "print(findfact(5))\n",
    "print(findfact(10))\n",
    "print(findfact(20))"
   ]
  },
  {
   "cell_type": "code",
   "execution_count": 1,
   "metadata": {},
   "outputs": [
    {
     "name": "stdout",
     "output_type": "stream",
     "text": [
      "2\n"
     ]
    }
   ],
   "source": [
    "\n",
    "# palindrome\n",
    "def countpalindrome(n1,n2):\n",
    "    cou=0;\n",
    "    while(n1<=n2):\n",
    "        k=n1;\n",
    "        u=n1;\n",
    "        sum=0;\n",
    "        while(k!=0):\n",
    "            r=k%10;\n",
    "            sum=sum*10+r;\n",
    "            k=k/10;\n",
    "            k=int(k);\n",
    "        if(sum==u):\n",
    "            cou=cou+1;\n",
    "        n1=n1+1;\n",
    "    \n",
    "            \n",
    "        \n",
    "    return cou;\n",
    "print(countpalindrome(10,30))"
   ]
  },
  {
   "cell_type": "code",
   "execution_count": null,
   "metadata": {},
   "outputs": [],
   "source": []
  }
 ],
 "metadata": {
  "kernelspec": {
   "display_name": "Python 3",
   "language": "python",
   "name": "python3"
  },
  "language_info": {
   "codemirror_mode": {
    "name": "ipython",
    "version": 3
   },
   "file_extension": ".py",
   "mimetype": "text/x-python",
   "name": "python",
   "nbconvert_exporter": "python",
   "pygments_lexer": "ipython3",
   "version": "3.7.3"
  }
 },
 "nbformat": 4,
 "nbformat_minor": 2
}
