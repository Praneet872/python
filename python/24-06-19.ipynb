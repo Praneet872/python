{
 "cells": [
  {
   "cell_type": "code",
   "execution_count": 19,
   "metadata": {
    "scrolled": false
   },
   "outputs": [
    {
     "name": "stdout",
     "output_type": "stream",
     "text": [
      "20\n"
     ]
    },
    {
     "data": {
      "text/plain": [
       "90"
      ]
     },
     "execution_count": 19,
     "metadata": {},
     "output_type": "execute_result"
    }
   ],
   "source": [
    "def printeven(n):\n",
    "   \n",
    "    cnt=0\n",
    "    sum=0\n",
    "    while(cnt!=n):\n",
    "        if(cnt%2==0):\n",
    "            sum=sum+cnt\n",
    "        cnt=cnt+1\n",
    "    return(sum)\n",
    "n=int(input())\n",
    "printeven(n)"
   ]
  },
  {
   "cell_type": "code",
   "execution_count": 17,
   "metadata": {},
   "outputs": [
    {
     "name": "stdout",
     "output_type": "stream",
     "text": [
      "45\n",
      "1 3 5 9 15 "
     ]
    }
   ],
   "source": [
    "def factor(n):\n",
    "    cnt=1\n",
    "    while(cnt<n):\n",
    "        if(n%cnt==0):\n",
    "            print(cnt,end=\" \")\n",
    "        cnt=cnt+1\n",
    "    return\n",
    "n=int(input())\n",
    "factor(n)"
   ]
  },
  {
   "cell_type": "markdown",
   "metadata": {},
   "source": [
    "# List in Python\n",
    "\n",
    "List can be written in python with square brackets and each item in the list is separated by comma operator\n",
    "\n",
    "List can be anything  -- int, char, float and string\n",
    "\n",
    "#####Example of List\n",
    "\n",
    "list 1= [1,2,3,4,5]\n",
    "\n",
    "list 2=[\"a\",\"b\",\"c\",\"d\"]\n",
    "\n",
    "list 3=[maths,science,physics,128,624]"
   ]
  },
  {
   "cell_type": "code",
   "execution_count": 24,
   "metadata": {},
   "outputs": [
    {
     "name": "stdout",
     "output_type": "stream",
     "text": [
      "[1, 2, 3, 4, 5]\n",
      "1\n"
     ]
    }
   ],
   "source": [
    "list1=[1,2,3,4,5]\n",
    "#Entire List\n",
    "print(list1)\n",
    "#list[0]\n",
    "print(list1[0])"
   ]
  },
  {
   "cell_type": "markdown",
   "metadata": {},
   "source": [
    "# for Loop\n",
    "\n",
    "Syntax:-\n",
    "\n",
    "            for <variablename> in <seq>:<br>\n",
    "                     <statements>"
   ]
  },
  {
   "cell_type": "code",
   "execution_count": 23,
   "metadata": {},
   "outputs": [
    {
     "name": "stdout",
     "output_type": "stream",
     "text": [
      "Akhil Arvind Anil Akash "
     ]
    }
   ],
   "source": [
    "list2=[\"Akhil\",\"Arvind\",\"Anil\",\"Akash\"]\n",
    "for x in list2:\n",
    "  print(x,end= \" \")"
   ]
  },
  {
   "cell_type": "code",
   "execution_count": 22,
   "metadata": {},
   "outputs": [
    {
     "name": "stdout",
     "output_type": "stream",
     "text": [
      "1 2 3 4 5 6 7 \n",
      "5\n",
      "[4, 5, 6, 7]\n",
      "[1, 2, 3]\n",
      "[1, 2, 3]\n",
      "[1, 2, 3, 4, 5, 6, 7]\n"
     ]
    }
   ],
   "source": [
    "#List example with particular index\n",
    "lst1=[1,2,3,4,5,6,7]\n",
    "for x in lst1:\n",
    "  print(x,end= \" \")\n",
    "print()\n",
    "print(lst1[4])\n",
    "print(lst1[3:7])\n",
    "print(lst1[0:3])\n",
    "print(lst1[:3])\n",
    "print(lst1[:7])"
   ]
  },
  {
   "cell_type": "code",
   "execution_count": 27,
   "metadata": {},
   "outputs": [
    {
     "name": "stdout",
     "output_type": "stream",
     "text": [
      "1 2 3 4 5 6 7 8 9 10 \n",
      "[2, 3, 4, 5, 6, 7, 8, 9]\n",
      "[3, 4, 5, 6, 7, 8]\n",
      "[1, 3, 5, 7, 9]\n",
      "[1, 4, 7, 10]\n",
      "[1, 5, 9]\n",
      "[10, 8, 6, 4, 2]\n",
      "10\n",
      "9\n"
     ]
    }
   ],
   "source": [
    "lst1=[1,2,3,4,5,6,7,8,9,10]\n",
    "for x in lst1:\n",
    "  print(x,end= \" \")\n",
    "print()\n",
    "print(lst1[1:-1])\n",
    "print(lst1[2:-2])\n",
    "print(lst1[::2])\n",
    "print(lst1[::3])\n",
    "print(lst1[::4])\n",
    "print(lst1[::-2])\n",
    "print(lst1[-1])\n",
    "print(lst1[-2])"
   ]
  },
  {
   "cell_type": "markdown",
   "metadata": {},
   "source": [
    "# List with range() function\n",
    "\n",
    "range(number):\n",
    "o to number"
   ]
  },
  {
   "cell_type": "code",
   "execution_count": null,
   "metadata": {},
   "outputs": [],
   "source": [
    "lst1=[\"Anil\",\"Adarsh\", \"Akhil\",1]\n",
    "print(lst1)\n",
    "lst1[2]=15# update the list item\n",
    "print(lst1)\n",
    "del lst1[3]# delete the list item\n",
    "print(lst1)\n",
    "lst1[1]=\"Gitam\"\n",
    "print(lst1)\n",
    "lst2=[1,2,3]\n",
    "print(lst2)\n",
    "print(lst1+lst2)# Concatination of both the lists"
   ]
  },
  {
   "cell_type": "markdown",
   "metadata": {},
   "source": [
    "# List with range() function\n",
    "\n",
    "range(number):\n",
    "\n",
    "0 to number"
   ]
  }
 ],
 "metadata": {
  "kernelspec": {
   "display_name": "Python 3",
   "language": "python",
   "name": "python3"
  },
  "language_info": {
   "codemirror_mode": {
    "name": "ipython",
    "version": 3
   },
   "file_extension": ".py",
   "mimetype": "text/x-python",
   "name": "python",
   "nbconvert_exporter": "python",
   "pygments_lexer": "ipython3",
   "version": "3.7.3"
  }
 },
 "nbformat": 4,
 "nbformat_minor": 2
}
