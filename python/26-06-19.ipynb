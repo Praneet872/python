{
 "cells": [
  {
   "cell_type": "markdown",
   "metadata": {},
   "source": [
    "# String Function - In Built Functions\n",
    "\n",
    "upper() -- returns string which all the characters in upper case"
   ]
  },
  {
   "cell_type": "code",
   "execution_count": 1,
   "metadata": {},
   "outputs": [
    {
     "name": "stdout",
     "output_type": "stream",
     "text": [
      "AVINASH\n",
      "avinash\n"
     ]
    }
   ],
   "source": [
    "str = \"avinash\"\n",
    "print(str.upper())\n",
    "print(str.lower())"
   ]
  },
  {
   "cell_type": "markdown",
   "metadata": {},
   "source": [
    "# Boolean Methods\n",
    "\n",
    "islower() -- Method returns the output either true or false , if it is true the given character is lower case and if not it returns false\n",
    "\n",
    "isupper()  -- True and False"
   ]
  },
  {
   "cell_type": "code",
   "execution_count": 2,
   "metadata": {},
   "outputs": [
    {
     "name": "stdout",
     "output_type": "stream",
     "text": [
      "False\n",
      "True\n"
     ]
    }
   ],
   "source": [
    "s = \"Python is Easy Programming to learn and interesting\"\n",
    "s1= \"python\"\n",
    "print(s.islower())\n",
    "print(s1.islower())"
   ]
  },
  {
   "cell_type": "code",
   "execution_count": 3,
   "metadata": {},
   "outputs": [
    {
     "name": "stdout",
     "output_type": "stream",
     "text": [
      "False\n",
      "True\n"
     ]
    }
   ],
   "source": [
    "s='Application'\n",
    "s1='AVINASH'\n",
    "print(s.isupper())\n",
    "print(s1.isupper())"
   ]
  },
  {
   "cell_type": "code",
   "execution_count": 7,
   "metadata": {},
   "outputs": [
    {
     "name": "stdout",
     "output_type": "stream",
     "text": [
      "True\n",
      "False\n"
     ]
    }
   ],
   "source": [
    "s='5678'\n",
    "s1='App1889'\n",
    "print(s.isnumeric())\n",
    "print(s1.isnumeric())"
   ]
  },
  {
   "cell_type": "code",
   "execution_count": 5,
   "metadata": {},
   "outputs": [
    {
     "name": "stdout",
     "output_type": "stream",
     "text": [
      "True\n",
      "False\n"
     ]
    }
   ],
   "source": [
    "s='Application'\n",
    "s1='App1889'\n",
    "print(s.isalpha())\n",
    "print(s1.isalpha())"
   ]
  },
  {
   "cell_type": "code",
   "execution_count": 6,
   "metadata": {},
   "outputs": [
    {
     "name": "stdout",
     "output_type": "stream",
     "text": [
      "False\n",
      "True\n"
     ]
    }
   ],
   "source": [
    "s='Python programming'\n",
    "s1='Python Programming'\n",
    "print(s.istitle())\n",
    "print(s1.istitle())"
   ]
  },
  {
   "cell_type": "code",
   "execution_count": 14,
   "metadata": {},
   "outputs": [
    {
     "name": "stdout",
     "output_type": "stream",
     "text": [
      "False\n",
      "True\n"
     ]
    }
   ],
   "source": [
    "s='Python'\n",
    "s1=' '\n",
    "print(s.isspace())\n",
    "print(s1.isspace())"
   ]
  },
  {
   "cell_type": "markdown",
   "metadata": {},
   "source": [
    "# String Methods\n",
    "\n",
    "1.join():join() method willl\n",
    "\n",
    "2.split():\n",
    "\n",
    "3.replace():"
   ]
  },
  {
   "cell_type": "code",
   "execution_count": 13,
   "metadata": {},
   "outputs": [
    {
     "name": "stdout",
     "output_type": "stream",
     "text": [
      "P y t h o n\n"
     ]
    }
   ],
   "source": [
    "str='Python'\n",
    "print(' '.join(str))"
   ]
  },
  {
   "cell_type": "code",
   "execution_count": 15,
   "metadata": {},
   "outputs": [
    {
     "name": "stdout",
     "output_type": "stream",
     "text": [
      "Python,Programming,Easy\n"
     ]
    }
   ],
   "source": [
    "print(','.join(['Python','Programming','Easy']))"
   ]
  },
  {
   "cell_type": "code",
   "execution_count": 16,
   "metadata": {},
   "outputs": [
    {
     "name": "stdout",
     "output_type": "stream",
     "text": [
      ",\n"
     ]
    }
   ],
   "source": [
    "lst=['','']\n",
    "print(','.join(lst))\n"
   ]
  },
  {
   "cell_type": "code",
   "execution_count": 19,
   "metadata": {},
   "outputs": [
    {
     "name": "stdout",
     "output_type": "stream",
     "text": [
      "['python progr', 'mming is e', 'sy to le', 'rn']\n",
      "['python', 'programming', 'is', 'easy', 'to', 'learn']\n",
      "['python programming is easy to learn']\n"
     ]
    }
   ],
   "source": [
    "s='python programming is easy to learn'\n",
    "print(s.split('a'))\n",
    "print(s.split())\n",
    "print(s.split(','))"
   ]
  },
  {
   "cell_type": "code",
   "execution_count": 20,
   "metadata": {},
   "outputs": [
    {
     "name": "stdout",
     "output_type": "stream",
     "text": [
      "['Python', 'Programming', 'is', 'easy', 'to', 'learn']\n",
      "2\n"
     ]
    }
   ],
   "source": [
    "s='Python Programming is easy to learn'\n",
    "lst=s.split()\n",
    "print(lst)\n",
    "print(lst.index('is'))"
   ]
  },
  {
   "cell_type": "code",
   "execution_count": 21,
   "metadata": {},
   "outputs": [
    {
     "name": "stdout",
     "output_type": "stream",
     "text": [
      "['P', 'y', 't', 'h', 'o', 'n', ' ', 'P', 'r', 'o', 'g', 'r', 'a', 'm', 'm', 'i', 'n', 'g', ' ', 'i', 's', ' ', 'e', 'a', 's', 'y', ' ', 't', 'o', ' ', 'l', 'e', 'a', 'r', 'n']\n"
     ]
    }
   ],
   "source": [
    "s='Python Programming is easy to learn'\n",
    "lst=list(s)\n",
    "print(lst)"
   ]
  },
  {
   "cell_type": "code",
   "execution_count": 22,
   "metadata": {},
   "outputs": [
    {
     "name": "stdout",
     "output_type": "stream",
     "text": [
      "Python Proapplicationmming\n"
     ]
    }
   ],
   "source": [
    "s='Python Programming'\n",
    "print(s.replace('gra','application'))"
   ]
  },
  {
   "cell_type": "markdown",
   "metadata": {},
   "source": [
    "### Python -- Tuples\n",
    "\n",
    "A tuple is a sequence of set of objects is like list only.\n",
    "\n",
    "The differences of list and tuple are, the tuples cannot be changed unlike list\n",
    "\n",
    "List will use square brackets hold objects[]\n",
    "\n",
    "Tuples will use parenthesis to hold objects()"
   ]
  },
  {
   "cell_type": "code",
   "execution_count": 23,
   "metadata": {},
   "outputs": [
    {
     "name": "stdout",
     "output_type": "stream",
     "text": [
      "('Python', 'Programming', 1989, 2019, 'Machine Learning', 'AI')\n",
      "(1, 2, 3, 4, 5)\n"
     ]
    }
   ],
   "source": [
    "t1=('Python','Programming',1989,2019,'Machine Learning','AI')\n",
    "t2=(1,2,3,4,5)\n",
    "print(t1)\n",
    "print(t2)"
   ]
  },
  {
   "cell_type": "code",
   "execution_count": 24,
   "metadata": {},
   "outputs": [
    {
     "name": "stdout",
     "output_type": "stream",
     "text": [
      "t1[0] =  Python\n",
      "t1[2] =  1989\n",
      "t1[-1] =  AI\n",
      "t1[1:4] =  ('Programming', 1989, 2019)\n",
      "t1[2:-2] =  (1989, 2019)\n"
     ]
    }
   ],
   "source": [
    "t1=('Python','Programming',1989,2019,'Machine Learning','AI')\n",
    "print('t1[0] = ',t1[0])\n",
    "print('t1[2] = ',t1[2])\n",
    "print('t1[-1] = ',t1[-1])\n",
    "print('t1[1:4] = ',t1[1:4])\n",
    "print('t1[2:-2] = ',t1[2:-2])"
   ]
  },
  {
   "cell_type": "markdown",
   "metadata": {},
   "source": [
    "# Tuple Methods\n",
    "\n",
    "**1.len(tuple)**:-len of the tuple\n",
    "\n",
    "**2.max(tuple)**:-returns the max value from tuple\n",
    "\n",
    "**3.min(tuple)**:-returns the min value from tuple\n",
    "\n",
    "**4.cmp(tuple1,tuple2)**:-returns the value as 1 or -1"
   ]
  },
  {
   "cell_type": "code",
   "execution_count": 25,
   "metadata": {},
   "outputs": [
    {
     "name": "stdout",
     "output_type": "stream",
     "text": [
      "6\n"
     ]
    }
   ],
   "source": [
    "t1=('Python','Programming',1989,2019,'Machine Learning','AI')\n",
    "print(len(t1))"
   ]
  },
  {
   "cell_type": "code",
   "execution_count": 26,
   "metadata": {},
   "outputs": [
    {
     "name": "stdout",
     "output_type": "stream",
     "text": [
      "25\n"
     ]
    },
    {
     "ename": "TypeError",
     "evalue": "'>' not supported between instances of 'int' and 'str'",
     "output_type": "error",
     "traceback": [
      "\u001b[1;31m---------------------------------------------------------------------------\u001b[0m",
      "\u001b[1;31mTypeError\u001b[0m                                 Traceback (most recent call last)",
      "\u001b[1;32m<ipython-input-26-ce71302d2c66>\u001b[0m in \u001b[0;36m<module>\u001b[1;34m\u001b[0m\n\u001b[0;32m      2\u001b[0m \u001b[0mt2\u001b[0m\u001b[1;33m=\u001b[0m\u001b[1;33m(\u001b[0m\u001b[1;34m'Python'\u001b[0m\u001b[1;33m,\u001b[0m\u001b[1;36m12\u001b[0m\u001b[1;33m,\u001b[0m\u001b[1;36m1\u001b[0m\u001b[1;33m,\u001b[0m\u001b[1;34m'Programming'\u001b[0m\u001b[1;33m)\u001b[0m\u001b[1;33m\u001b[0m\u001b[1;33m\u001b[0m\u001b[0m\n\u001b[0;32m      3\u001b[0m \u001b[0mprint\u001b[0m\u001b[1;33m(\u001b[0m\u001b[0mmax\u001b[0m\u001b[1;33m(\u001b[0m\u001b[0mt1\u001b[0m\u001b[1;33m)\u001b[0m\u001b[1;33m)\u001b[0m\u001b[1;33m\u001b[0m\u001b[1;33m\u001b[0m\u001b[0m\n\u001b[1;32m----> 4\u001b[1;33m \u001b[0mprint\u001b[0m\u001b[1;33m(\u001b[0m\u001b[0mmax\u001b[0m\u001b[1;33m(\u001b[0m\u001b[0mt2\u001b[0m\u001b[1;33m)\u001b[0m\u001b[1;33m)\u001b[0m\u001b[1;33m\u001b[0m\u001b[1;33m\u001b[0m\u001b[0m\n\u001b[0m",
      "\u001b[1;31mTypeError\u001b[0m: '>' not supported between instances of 'int' and 'str'"
     ]
    }
   ],
   "source": [
    "t1=(12,15,19,25,6,18)\n",
    "t2=('Python',12,1,'Programming')\n",
    "print(max(t1))\n",
    "print(max(t2))"
   ]
  },
  {
   "cell_type": "code",
   "execution_count": 27,
   "metadata": {},
   "outputs": [
    {
     "name": "stdout",
     "output_type": "stream",
     "text": [
      "6\n"
     ]
    }
   ],
   "source": [
    "t1=(12,15,19,25,6,18)\n",
    "print(min(t1))"
   ]
  },
  {
   "cell_type": "code",
   "execution_count": 28,
   "metadata": {},
   "outputs": [
    {
     "name": "stdout",
     "output_type": "stream",
     "text": [
      "(1, 2, 3, 4, 5)\n",
      "(1, 2, 3, 4, 5)\n"
     ]
    },
    {
     "ename": "NameError",
     "evalue": "name 'cmp' is not defined",
     "output_type": "error",
     "traceback": [
      "\u001b[1;31m---------------------------------------------------------------------------\u001b[0m",
      "\u001b[1;31mNameError\u001b[0m                                 Traceback (most recent call last)",
      "\u001b[1;32m<ipython-input-28-660e0ff55bf9>\u001b[0m in \u001b[0;36m<module>\u001b[1;34m\u001b[0m\n\u001b[0;32m      3\u001b[0m \u001b[0mprint\u001b[0m\u001b[1;33m(\u001b[0m\u001b[0mt1\u001b[0m\u001b[1;33m)\u001b[0m\u001b[1;33m\u001b[0m\u001b[1;33m\u001b[0m\u001b[0m\n\u001b[0;32m      4\u001b[0m \u001b[0mprint\u001b[0m\u001b[1;33m(\u001b[0m\u001b[0mt2\u001b[0m\u001b[1;33m)\u001b[0m\u001b[1;33m\u001b[0m\u001b[1;33m\u001b[0m\u001b[0m\n\u001b[1;32m----> 5\u001b[1;33m \u001b[0ma\u001b[0m\u001b[1;33m=\u001b[0m\u001b[0mcmp\u001b[0m\u001b[1;33m(\u001b[0m\u001b[0mt1\u001b[0m\u001b[1;33m,\u001b[0m\u001b[0mt2\u001b[0m\u001b[1;33m)\u001b[0m\u001b[1;33m\u001b[0m\u001b[1;33m\u001b[0m\u001b[0m\n\u001b[0m\u001b[0;32m      6\u001b[0m \u001b[0mprint\u001b[0m\u001b[1;33m(\u001b[0m\u001b[0ma\u001b[0m\u001b[1;33m)\u001b[0m\u001b[1;33m\u001b[0m\u001b[1;33m\u001b[0m\u001b[0m\n",
      "\u001b[1;31mNameError\u001b[0m: name 'cmp' is not defined"
     ]
    }
   ],
   "source": [
    "t1=(1,2,3,4,5)\n",
    "t2=(1,2,3,4,5)\n",
    "print(t1)\n",
    "print(t2)\n",
    "a=cmp(t1,t2)\n",
    "print(a)"
   ]
  },
  {
   "cell_type": "code",
   "execution_count": 29,
   "metadata": {},
   "outputs": [
    {
     "name": "stdout",
     "output_type": "stream",
     "text": [
      "['Python', 'Programming', 1989, 2019, 'Machine Learning', 'AI']\n",
      "('Python', 'Programming', 1989, 2019, 'Machine Learning', 'AI')\n"
     ]
    }
   ],
   "source": [
    "list1=['Python','Programming',1989,2019,'Machine Learning','AI']\n",
    "print(list1)\n",
    "tuple1=tuple(list1)\n",
    "print(tuple1)"
   ]
  },
  {
   "cell_type": "markdown",
   "metadata": {},
   "source": [
    "## Python -- Dictionary\n",
    "\n",
    "Dictionary each key is separeted with values by colon(:)\n",
    "\n",
    "User data can be separeted from comma operator\n",
    "\n",
    "Examples:-\n",
    "\n",
    "user1 = {'Name':'AVINASH','Age':'18','EmailID':'AVI@gmail.com','MobileNumber':'0000000000'}"
   ]
  },
  {
   "cell_type": "code",
   "execution_count": 35,
   "metadata": {},
   "outputs": [
    {
     "name": "stdout",
     "output_type": "stream",
     "text": [
      "user1[Name] =  Avi\n",
      "user1[EmailID] =  Avi@gmail.com\n",
      "user1[Age] =  18\n",
      "user1[MobileNumber] =  9999999999\n"
     ]
    }
   ],
   "source": [
    "user1 = {'Name':'Avi','Age':'18','EmailID':'Avi@gmail.com','MobileNumber':'9999999999'}\n",
    "print('user1[Name] = ',user1['Name'])\n",
    "print('user1[EmailID] = ',user1['EmailID'])\n",
    "print('user1[Age] = ',user1['Age'])\n",
    "print('user1[MobileNumber] = ',user1['MobileNumber'])"
   ]
  },
  {
   "cell_type": "code",
   "execution_count": 49,
   "metadata": {},
   "outputs": [
    {
     "name": "stdout",
     "output_type": "stream",
     "text": [
      "user1[EmailID] =  Avi@gmail.com\n",
      "user1[EmailID] =  avi@gmail.com\n",
      "hyderabad\n"
     ]
    }
   ],
   "source": [
    "user1 = {'Name':'Avi','Age':'18','EmailID':'Avi@gmail.com','MobileNumber':'9999999999'}\n",
    "print('user1[EmailID] = ',user1['EmailID'])\n",
    "user1['EmailID']='avi@gmail.com'\n",
    "print('user1[EmailID] = ',user1['EmailID'])\n",
    "user1['address']='hyderabad'\n",
    "print(user1['address'])"
   ]
  },
  {
   "cell_type": "code",
   "execution_count": 51,
   "metadata": {},
   "outputs": [],
   "source": [
    "user1 = {'Name':'Afkakillnsnh','Age':'18','EmailID':'atjrtjkfnash@gmail.com','MobileNumber':'9999999999'}\n",
    "del user1['EmailID']\n",
    "user1.clear()\n",
    "del user1"
   ]
  },
  {
   "cell_type": "code",
   "execution_count": 47,
   "metadata": {},
   "outputs": [
    {
     "name": "stdout",
     "output_type": "stream",
     "text": [
      "4\n",
      "5\n"
     ]
    }
   ],
   "source": [
    "user1 = {'Name':'Afkafbsil8dfih','Age':'18','EmailID':'aktjragnsh@gmail.com','MobileNumber':'9999999999'}\n",
    "print(len(user1))\n",
    "user1['Address']= 'Hyderabad'\n",
    "print(len(user1))"
   ]
  },
  {
   "cell_type": "code",
   "execution_count": 48,
   "metadata": {},
   "outputs": [
    {
     "name": "stdout",
     "output_type": "stream",
     "text": [
      "{'Name': 'Aklfiukupafnsh', 'Age': '18', 'EmailID': 'akatjnsnh@gmail.com', 'MobileNumber': '9999999999'}\n",
      "{'Name': 'Aklfiukupafnsh', 'Age': '18', 'EmailID': 'akatjnsnh@gmail.com', 'MobileNumber': '9999999999'}\n",
      "{'Name': 'Aklfiukupafnsh', 'Age': '18', 'EmailID': 'akatjnsnh@gmail.com', 'MobileNumber': '9999999999', 'Address': 'Hyderabad'}\n",
      "{'Name': 'Aklfiukupafnsh', 'Age': '18', 'EmailID': 'akatjnsnh@gmail.com', 'MobileNumber': '9999999999'}\n"
     ]
    }
   ],
   "source": [
    "user1 = {'Name':'Aklfiukupafnsh','Age':'18','EmailID':'akatjnsnh@gmail.com','MobileNumber':'9999999999'}\n",
    "user2=user1.copy()\n",
    "print(user1)\n",
    "print(user2)\n",
    "user1['Address'] = 'Hyderabad'\n",
    "print(user1)\n",
    "print(user2)"
   ]
  },
  {
   "cell_type": "code",
   "execution_count": 43,
   "metadata": {},
   "outputs": [
    {
     "name": "stdout",
     "output_type": "stream",
     "text": [
      "dict_values(['Aka54y56sh', '18', 'akjut7kash@gmail.com', '9999999999'])\n",
      "dict_values(['Aka54y56sh', '18', 'akjut7kash@gmail.com', '9999999999'])\n"
     ]
    }
   ],
   "source": [
    "user1 = {'Name':'Aka54y56sh','Age':'18','EmailID':'akjut7kash@gmail.com','MobileNumber':'9999999999'}\n",
    "user2 = user1.copy()\n",
    "print(user1.values())\n",
    "print(user2.values())"
   ]
  },
  {
   "cell_type": "markdown",
   "metadata": {},
   "source": [
    "# Contact Application\n",
    "\n",
    "1.Add new contact\n",
    "\n",
    "2.Search for contact\n",
    "\n",
    "3.List of all contacts\n",
    "       \n",
    "       3.1 Name1 - Phone1\n",
    "       \n",
    "       3.2 Name2 - Phone2\n",
    "\n",
    "4.Remove contact\n",
    "\n",
    "5.Modify contacts"
   ]
  },
  {
   "cell_type": "code",
   "execution_count": 58,
   "metadata": {},
   "outputs": [
    {
     "name": "stdout",
     "output_type": "stream",
     "text": [
      "contact ansksd added\n",
      "contact anskswd added\n",
      "contact ansksgd added\n"
     ]
    }
   ],
   "source": [
    "contacts ={}\n",
    "def addcontact(name,phone):\n",
    "    #verify thatthe contact doesnot already exists\n",
    "    if name not in contacts:\n",
    "        contacts[name]= phone\n",
    "        print(\"contact %s added\"% name)\n",
    "    else:\n",
    "        print (\"contact %s already exists\" % name)\n",
    "    return\n",
    "addcontact('ansksd',9654564665)\n",
    "addcontact('anskswd',9654564668)\n",
    "addcontact('ansksgd',9654564669)"
   ]
  },
  {
   "cell_type": "code",
   "execution_count": 64,
   "metadata": {},
   "outputs": [
    {
     "name": "stdout",
     "output_type": "stream",
     "text": [
      "ansksd :  9654564665\n",
      "anskswd :  9654564668\n",
      "ansksgd :  9654564669\n"
     ]
    }
   ],
   "source": [
    "#Search for a particular contact from Contact List\n",
    "def searchcontact(name):\n",
    "  if name in contacts:\n",
    "    print(name, ': ' ,contacts[name])\n",
    "  else:\n",
    "    print('%s does not exists' % name)\n",
    "  return\n",
    "searchcontact('ansksd')\n",
    "searchcontact('anskswd')\n",
    "searchcontact('ansksgd')"
   ]
  },
  {
   "cell_type": "code",
   "execution_count": 65,
   "metadata": {},
   "outputs": [
    {
     "name": "stdout",
     "output_type": "stream",
     "text": [
      "2 Conatcts added successfully\n"
     ]
    }
   ],
   "source": [
    "#New Contacts is given as a dictionary\n",
    "#Merge new contact  with existing contacts list\n",
    "def importcontacts(newcontacts):\n",
    "  contacts.update(newcontacts)\n",
    "  print(len(newcontacts.keys()),'Conatcts added successfully')\n",
    "  return\n",
    "newcontacts={'rajesh':9545525436,'Amar':8545041652}\n",
    "importcontacts(newcontacts)"
   ]
  },
  {
   "cell_type": "code",
   "execution_count": 66,
   "metadata": {},
   "outputs": [
    {
     "name": "stdout",
     "output_type": "stream",
     "text": [
      "Swadeep does not exists in the contacts\n",
      "Shashank does not exists in the contacts\n"
     ]
    }
   ],
   "source": [
    "#Delete a conatct from contacts list\n",
    "def deletecontact(name):\n",
    "  if name in contacts:\n",
    "    del contacts[name]\n",
    "    print(name,'is deleted from the contacts')\n",
    "  else:\n",
    "    print(name,'does not exists in the contacts')\n",
    "  return\n",
    "deletecontact('Swadeep')\n",
    "deletecontact('Shashank')"
   ]
  },
  {
   "cell_type": "code",
   "execution_count": 68,
   "metadata": {},
   "outputs": [
    {
     "name": "stdout",
     "output_type": "stream",
     "text": [
      "Anand Updated with new Phone number\n",
      "Abhinav Not exists in contacts\n"
     ]
    }
   ],
   "source": [
    "def updatecontact(name,phone):\n",
    "  if name in contacts:\n",
    "    contacts[name] = phone\n",
    "    print(name,'Updated with new Phone number')\n",
    "  else:\n",
    "    print(name,'Not exists in contacts')\n",
    "  return\n",
    "updatecontact('Anand',9852415846)\n",
    "updatecontact('Abhinav',9865456354)"
   ]
  },
  {
   "cell_type": "markdown",
   "metadata": {},
   "source": [
    "# Packages and Modules\n",
    "\n",
    "**Package**:- Collection of Modules(Python file .py)\n",
    "\n",
    "**Sub Packages**:- Its part of Main package\n",
    "\n",
    "**Module**:- A single Python file contains set of operations(Functions)\n",
    "\n",
    "        *#Package --> Sub package --> Modules --> Functions*\n",
    "        \n",
    "        *#Standard Lib -- Math *"
   ]
  },
  {
   "cell_type": "code",
   "execution_count": 69,
   "metadata": {},
   "outputs": [
    {
     "data": {
      "text/plain": [
       "123"
      ]
     },
     "execution_count": 69,
     "metadata": {},
     "output_type": "execute_result"
    }
   ],
   "source": [
    "from math import floor as f1\n",
    "f1(123.456)"
   ]
  },
  {
   "cell_type": "code",
   "execution_count": 70,
   "metadata": {},
   "outputs": [
    {
     "data": {
      "text/plain": [
       "120"
      ]
     },
     "execution_count": 70,
     "metadata": {},
     "output_type": "execute_result"
    }
   ],
   "source": [
    "from math import factorial as fact\n",
    "fact(5)"
   ]
  },
  {
   "cell_type": "code",
   "execution_count": 71,
   "metadata": {},
   "outputs": [
    {
     "data": {
      "text/plain": [
       "120"
      ]
     },
     "execution_count": 71,
     "metadata": {},
     "output_type": "execute_result"
    }
   ],
   "source": [
    "import math\n",
    "math.factorial(5)"
   ]
  },
  {
   "cell_type": "code",
   "execution_count": 72,
   "metadata": {},
   "outputs": [
    {
     "name": "stdout",
     "output_type": "stream",
     "text": [
      "64 118 78 43 28 34 20 92 20 20 "
     ]
    }
   ],
   "source": [
    "#Generate the random numbers between two limits\n",
    "import random\n",
    "def generaterandomnumbers(n,lb,ub):\n",
    "  for i in range(0,n):\n",
    "    print(random.randint(lb,ub),end=' ')\n",
    "  return\n",
    "generaterandomnumbers(10,12,120)"
   ]
  },
  {
   "cell_type": "code",
   "execution_count": 75,
   "metadata": {},
   "outputs": [
    {
     "name": "stdout",
     "output_type": "stream",
     "text": [
      "[80, 85, 7, 61, 31, 51, 21, 27, 65, 48]\n",
      "[0.4642114020462086, 0.6049705935199763, 0.3312123190437707, 0.04192445108102527, 0.5632223096699333, 0.45140613252607775, 0.9908366132406907, 0.3461091069755793, 0.5673911406565917, 0.27960783200607975]\n",
      "[51, 21, 31, 85, 80, 65, 7, 48, 27, 61]\n",
      "9.403146539205267\n",
      "None\n",
      "61\n"
     ]
    }
   ],
   "source": [
    "from random import *\n",
    "lt,lq,lw,le=[],[],[],[]\n",
    "for i in range(10):\n",
    "    lt.append(randint(1,100))\n",
    "    lq.append(random())\n",
    "print(lt)\n",
    "print(lq)\n",
    "shuffle(lt)\n",
    "print(lt)\n",
    "k=uniform(5,10)\n",
    "print(k)\n",
    "z=seed(k)\n",
    "print(z)\n",
    "print(choice(lt))\n",
    "\n"
   ]
  },
  {
   "cell_type": "code",
   "execution_count": 76,
   "metadata": {},
   "outputs": [
    {
     "name": "stdout",
     "output_type": "stream",
     "text": [
      "The ceil of 2.3 is : 3\n",
      "The floor of 2.3 is : 2\n",
      "The absolute value of -15 is : 15.0\n",
      "the factorial of 3 is :  6\n",
      "the factorial of -2.3 and 99 is :  2.3\n",
      "the gcd of 45 and 3 is :  3\n",
      "given number is :  True\n",
      "the mod of 3.58 is :  (0.5800000000000001, 3.0)\n",
      "the exp of 2.99 is :  19.88568249156473\n"
     ]
    }
   ],
   "source": [
    "# returning the ceil of 2.3 \n",
    "import math\n",
    "a = 2.3\n",
    "print (\"The ceil of 2.3 is : \", end=\"\") \n",
    "print (math.ceil(a))\n",
    "# returning the floor of 2.3\n",
    "import math \n",
    "a = 2.3\n",
    "print (\"The floor of 2.3 is : \", end=\"\") \n",
    "print (math.floor(a)) \n",
    "#returning the absolute value\n",
    "import math \n",
    "a = -15\n",
    "print (\"The absolute value of -15 is : \", end=\"\") \n",
    "print (math.fabs(a)) \n",
    "#returning the factorial\n",
    "import math\n",
    "a = 3\n",
    "print(\"the factorial of 3 is : \", end=\" \")\n",
    "print (math.factorial(a))\n",
    "\n",
    "#returning the copysigned value \n",
    "import math\n",
    "a = -2.3\n",
    "b = 99\n",
    "print(\"the factorial of -2.3 and 99 is : \", end=\" \")\n",
    "print(math.copysign(-2.3,99))\n",
    "#returning the gcd\n",
    "import math\n",
    "a = 45\n",
    "b = 3\n",
    "print(\"the gcd of 45 and 3 is : \", end=\" \")\n",
    "print(math.gcd(45,3))\n",
    "import math\n",
    "a = 23\n",
    "print(\"given number is : \", end=\" \")\n",
    "print(math.isfinite(a))\n",
    "import math\n",
    "a = 3.58\n",
    "print(\"the mod of 3.58 is : \",end=\" \")\n",
    "print(math.modf(a))\n",
    "import math\n",
    "a = 2.99\n",
    "print(\"the exp of 2.99 is : \",end=\" \")\n",
    "print(math.exp(a))"
   ]
  },
  {
   "cell_type": "code",
   "execution_count": null,
   "metadata": {},
   "outputs": [],
   "source": []
  }
 ],
 "metadata": {
  "kernelspec": {
   "display_name": "Python 3",
   "language": "python",
   "name": "python3"
  },
  "language_info": {
   "codemirror_mode": {
    "name": "ipython",
    "version": 3
   },
   "file_extension": ".py",
   "mimetype": "text/x-python",
   "name": "python",
   "nbconvert_exporter": "python",
   "pygments_lexer": "ipython3",
   "version": "3.7.3"
  }
 },
 "nbformat": 4,
 "nbformat_minor": 2
}
