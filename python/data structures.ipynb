{
 "cells": [
  {
   "cell_type": "markdown",
   "metadata": {},
   "source": [
    "# Data Structures\n",
    "## Searching the data\n",
    "###### linear search\n",
    "###### binary search"
   ]
  },
  {
   "cell_type": "markdown",
   "metadata": {},
   "source": [
    "# ###Linear Search\n",
    "This can be applied on sorted / unsorted list\n",
    "\n",
    "This can be applied on unique / duplicate list"
   ]
  },
  {
   "cell_type": "code",
   "execution_count": 2,
   "metadata": {},
   "outputs": [
    {
     "name": "stdout",
     "output_type": "stream",
     "text": [
      "Target item is found\n"
     ]
    }
   ],
   "source": [
    "def linearsearch(a,taritem):\n",
    " flag=0\n",
    " for i in range(len(a)):\n",
    "   if a[i]==taritem:\n",
    "     flag=1;\n",
    "     break\n",
    " if(flag!=0):\n",
    "   print('Target item is found')\n",
    " else:\n",
    "   print('Target item is not found')\n",
    "a=[16,2,12,6,9,7,1]\n",
    "linearsearch(a,7)"
   ]
  },
  {
   "cell_type": "markdown",
   "metadata": {},
   "source": [
    "### Linear search \n"
   ]
  },
  {
   "cell_type": "code",
   "execution_count": 3,
   "metadata": {},
   "outputs": [
    {
     "name": "stdout",
     "output_type": "stream",
     "text": [
      "2\n"
     ]
    }
   ],
   "source": [
    "def linearsearchduplicate(a,taritem):\n",
    "  flag=0\n",
    "  for i in range(len(a)):\n",
    "    if a[i]==taritem:\n",
    "      flag=flag+1\n",
    "      \n",
    "  print(flag)\n",
    "a=[9,1,6,1,5,9,15,16]\n",
    "linearsearchduplicate(a,9)"
   ]
  },
  {
   "cell_type": "markdown",
   "metadata": {},
   "source": [
    "# Linear Search Examples\n",
    "\n",
    "### Example 1:\n",
    "\n",
    "Input: List\n",
    "\n",
    "Output: Indexes of target item\n",
    "\n",
    "Test Cases:\n",
    "[1,5,9,6,5,15,12,5],tar=5----147\n"
   ]
  },
  {
   "cell_type": "code",
   "execution_count": 7,
   "metadata": {},
   "outputs": [
    {
     "name": "stdout",
     "output_type": "stream",
     "text": [
      "1\n",
      "4\n",
      "7\n"
     ]
    }
   ],
   "source": [
    "def linearexample1(a,taritem):\n",
    "  flag=0\n",
    "  for i in range(len(a)):\n",
    "    if a[i]==taritem:\n",
    "      flag=i\n",
    "      print(flag)\n",
    " \n",
    "a=[1,5,9,6,5,15,12,5]\n",
    "linearexample1(a,5)"
   ]
  },
  {
   "cell_type": "code",
   "execution_count": 27,
   "metadata": {},
   "outputs": [
    {
     "name": "stdout",
     "output_type": "stream",
     "text": [
      " !!   !!!!!   !!!!!!!! "
     ]
    }
   ],
   "source": [
    "def linearexample1(a,taritem):\n",
    "    for i in range(len(a)):\n",
    "        if a[i]==taritem:\n",
    "            flag=0\n",
    "            while(flag<=i):\n",
    "                print('!',end=\"\")\n",
    "                flag=flag+1\n",
    "        print(end=' ')\n",
    "    \n",
    " \n",
    "a=[1,5,9,6,5,15,12,5]\n",
    "linearexample1(a,5)"
   ]
  },
  {
   "cell_type": "code",
   "execution_count": 33,
   "metadata": {},
   "outputs": [
    {
     "name": "stdout",
     "output_type": "stream",
     "text": [
      "60\n"
     ]
    }
   ],
   "source": [
    "def multiple(a):\n",
    "    sum=0\n",
    "    for i in range(len(a)):\n",
    "        if(a[i]%3==0 and a[i]%5==0):\n",
    "            sum=sum+a[i]\n",
    "    print(sum)\n",
    "a=[15,12,2,9,18,36,45]\n",
    "multiple(a)"
   ]
  },
  {
   "cell_type": "markdown",
   "metadata": {},
   "source": [
    "# Linear Search Examples\n",
    "\n",
    "####Example 4:\n",
    "\n",
    "Input: List\n",
    "\n",
    "Output:Formatted Output\n",
    "\n",
    "Test Cases:\n",
    "[1,2,3,4,5] ----- 1 3 8 15 5"
   ]
  },
  {
   "cell_type": "code",
   "execution_count": 34,
   "metadata": {},
   "outputs": [
    {
     "name": "stdout",
     "output_type": "stream",
     "text": [
      "1 3 8 15 5 "
     ]
    }
   ],
   "source": [
    "def linearformattedoutput(a):\n",
    "  for i in range(len(a)):\n",
    "    if i==0 or i==(len(a)-1):\n",
    "      print(a[i],end = \" \")\n",
    "    else:\n",
    "      print(a[i-1]*a[i+1], end = \" \")\n",
    "a=[1,2,3,4,5]\n",
    "linearformattedoutput(a)"
   ]
  },
  {
   "cell_type": "markdown",
   "metadata": {},
   "source": [
    "# Example 5:\n",
    "\n",
    "Input: List\n",
    "\n",
    "Output:Formatted Output\n",
    "\n",
    "Test Cases:\n",
    "[1,6,9,4,16,19,22] ----- 1  9  19  22\n",
    "\n",
    "**First and Last items to be printed as it is \n",
    "\n",
    "**For the middle items need to check both sides of the numbers is even or not, if it is even then print that item otherwise skip that item  "
   ]
  },
  {
   "cell_type": "code",
   "execution_count": 35,
   "metadata": {},
   "outputs": [
    {
     "name": "stdout",
     "output_type": "stream",
     "text": [
      "1 9 19 22 "
     ]
    }
   ],
   "source": [
    "def linearformattedoutput(a):\n",
    "  for i in range(len(a)):\n",
    "    if i==0 or i==(len(a)-1):\n",
    "      print(a[i],end = \" \")\n",
    "    elif(a[i-1]%2==0 and a[i+1]%2==0):\n",
    "      print(a[i], end = \" \")\n",
    "a=[1,6,9,4,16,19,22]\n",
    "linearformattedoutput(a)"
   ]
  },
  {
   "cell_type": "markdown",
   "metadata": {},
   "source": [
    "# Linear Search Examples\n",
    "\n",
    "####Example 6:\n",
    "\n",
    "Input: A Number\n",
    "\n",
    "Output:List\n",
    "\n",
    "Test Cases:\n",
    "\n",
    "14569 -- [1,4,5,6,9]\n",
    "\n",
    "1974 -- [1,9,7,4]"
   ]
  },
  {
   "cell_type": "code",
   "execution_count": 4,
   "metadata": {},
   "outputs": [
    {
     "name": "stdout",
     "output_type": "stream",
     "text": [
      "14965\n",
      "[1, 4, 9, 6, 5]\n"
     ]
    }
   ],
   "source": [
    "def linearformattedoutput(an):\n",
    "    a=[]\n",
    "    while(an!=0):\n",
    "        a.append(an%10)\n",
    "        an=an//10\n",
    "    a.reverse()\n",
    "    print (a)\n",
    "an=int(input())\n",
    "linearformattedoutput(an)"
   ]
  },
  {
   "cell_type": "code",
   "execution_count": 3,
   "metadata": {},
   "outputs": [
    {
     "name": "stdout",
     "output_type": "stream",
     "text": [
      "enter size5\n",
      "1\n",
      "2\n",
      "3\n",
      "4\n",
      "5\n",
      "12345\n"
     ]
    }
   ],
   "source": [
    "i=0\n",
    "def linearformattedoutput(a):\n",
    "    sum=0\n",
    "    for i in range(n):\n",
    "        sum=sum*10+a[i]\n",
    "    print(sum)\n",
    "    return\n",
    "n=int(input('enter size'))\n",
    "a=[int(input())for i in range(n)]\n",
    "linearformattedoutput(a)"
   ]
  },
  {
   "cell_type": "code",
   "execution_count": 2,
   "metadata": {},
   "outputs": [
    {
     "name": "stdout",
     "output_type": "stream",
     "text": [
      "enter size5\n",
      "1\n",
      "2\n",
      "3\n",
      "4\n",
      "5\n",
      "24\n"
     ]
    }
   ],
   "source": [
    "i=0\n",
    "def linearformattedoutput(a):\n",
    "    sum=0\n",
    "    for i in range(n):\n",
    "        if(a[i]%2==0):\n",
    "            sum=sum*10+a[i]\n",
    "    print(sum)\n",
    "    return\n",
    "n=int(input('enter size'))\n",
    "a=[int(input())for i in range(n)]\n",
    "linearformattedoutput(a)"
   ]
  },
  {
   "cell_type": "code",
   "execution_count": 5,
   "metadata": {},
   "outputs": [
    {
     "name": "stdout",
     "output_type": "stream",
     "text": [
      "12345\n",
      "[2, 4]\n"
     ]
    }
   ],
   "source": [
    "def linearformattedoutput(an):\n",
    "    a=[]\n",
    "    while(an!=0):\n",
    "        if(an%10%2==0):\n",
    "            a.append(an%10)\n",
    "        an=an//10\n",
    "    a.reverse()\n",
    "    print (a)\n",
    "an=int(input())\n",
    "linearformattedoutput(an)"
   ]
  },
  {
   "cell_type": "code",
   "execution_count": null,
   "metadata": {},
   "outputs": [],
   "source": [
    "i=0\n",
    "def sq(a):\n",
    "    while(i<n):\n",
    "        if(a[i]%2==0):\n",
    "            a[i]=a[i]**2\n",
    "        i=i+1\n",
    "        return a\n",
    "print(a)\n",
    "n=int(input('size'))\n",
    "a=[int(input())for i in range(n)]"
   ]
  },
  {
   "cell_type": "code",
   "execution_count": null,
   "metadata": {},
   "outputs": [],
   "source": []
  }
 ],
 "metadata": {
  "kernelspec": {
   "display_name": "Python 3",
   "language": "python",
   "name": "python3"
  },
  "language_info": {
   "codemirror_mode": {
    "name": "ipython",
    "version": 3
   },
   "file_extension": ".py",
   "mimetype": "text/x-python",
   "name": "python",
   "nbconvert_exporter": "python",
   "pygments_lexer": "ipython3",
   "version": "3.7.3"
  }
 },
 "nbformat": 4,
 "nbformat_minor": 2
}
