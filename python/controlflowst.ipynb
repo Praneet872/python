{
 "cells": [
  {
   "cell_type": "markdown",
   "metadata": {},
   "source": [
    "# control flow statements"
   ]
  },
  {
   "cell_type": "code",
   "execution_count": null,
   "metadata": {},
   "outputs": [],
   "source": [
    "#1\n",
    "x=10\n",
    "if(x<15):\n",
    "    print('the number is less than 15')"
   ]
  },
  {
   "cell_type": "code",
   "execution_count": null,
   "metadata": {},
   "outputs": [],
   "source": [
    "#2\n",
    "x=10\n",
    "if(x<15):print('hello')"
   ]
  },
  {
   "cell_type": "code",
   "execution_count": null,
   "metadata": {},
   "outputs": [],
   "source": [
    "#3\n",
    "x=10\n",
    "if(x<15):print('hello good morning')\n",
    "else : print('hello good afternoon')"
   ]
  },
  {
   "cell_type": "code",
   "execution_count": 74,
   "metadata": {},
   "outputs": [
    {
     "name": "stdout",
     "output_type": "stream",
     "text": [
      "enter x\n",
      "100\n",
      "enter y\n",
      "90\n",
      "90\tgreater than\t100\n"
     ]
    }
   ],
   "source": [
    "\n",
    "#4\n",
    "x=input('enter x\\n')\n",
    "y=input('enter y\\n')\n",
    "if(x>y):print(x+'greater than'+y)\n",
    "else: print(y+'\\tgreater than\\t'+x)"
   ]
  },
  {
   "cell_type": "code",
   "execution_count": 54,
   "metadata": {},
   "outputs": [
    {
     "name": "stdout",
     "output_type": "stream",
     "text": [
      "ENTER3\n",
      "enter 4\n",
      "12\n"
     ]
    }
   ],
   "source": [
    "#5\n",
    "x=int(input( \"ENTER\"))\n",
    "y=int(input(\"enter \"))\n",
    "if(x==y): \n",
    "    print(x*x)\n",
    "else:\n",
    "    print(x*y)"
   ]
  },
  {
   "cell_type": "code",
   "execution_count": 57,
   "metadata": {},
   "outputs": [
    {
     "name": "stdout",
     "output_type": "stream",
     "text": [
      "enter3\n",
      "pos\n"
     ]
    }
   ],
   "source": [
    "#6\n",
    "x=int(input('enter'))\n",
    "if(x<0):\n",
    "    print ('neg')\n",
    "elif (x==0):\n",
    "    print('zero')\n",
    "else :print('pos')"
   ]
  },
  {
   "cell_type": "markdown",
   "metadata": {},
   "source": [
    "# whileloop"
   ]
  },
  {
   "cell_type": "code",
   "execution_count": 66,
   "metadata": {},
   "outputs": [
    {
     "name": "stdout",
     "output_type": "stream",
     "text": [
      "1\n",
      "2\n",
      "3\n",
      "4\n",
      "5\n",
      "6\n",
      "7\n",
      "8\n",
      "9\n",
      "10\n"
     ]
    }
   ],
   "source": [
    "#1\n",
    "i=1\n",
    "while(i<11):\n",
    "    print(i)\n",
    "    i=i+1"
   ]
  },
  {
   "cell_type": "code",
   "execution_count": 67,
   "metadata": {},
   "outputs": [
    {
     "name": "stdout",
     "output_type": "stream",
     "text": [
      "10\n",
      "9\n",
      "8\n",
      "7\n",
      "6\n",
      "5\n",
      "4\n",
      "3\n",
      "2\n",
      "1\n"
     ]
    }
   ],
   "source": [
    "#2\n",
    "i=10\n",
    "while(i>0):\n",
    "    print(i)\n",
    "    i=i-1"
   ]
  },
  {
   "cell_type": "code",
   "execution_count": 69,
   "metadata": {},
   "outputs": [
    {
     "name": "stdout",
     "output_type": "stream",
     "text": [
      "-22\n",
      "-23\n",
      "-24\n",
      "-25\n",
      "-26\n",
      "-27\n",
      "-28\n",
      "-29\n",
      "-30\n",
      "-31\n",
      "-32\n",
      "-33\n",
      "-34\n",
      "-35\n",
      "-36\n",
      "-37\n",
      "-38\n",
      "-39\n",
      "-40\n",
      "-41\n",
      "-42\n",
      "-43\n",
      "-44\n",
      "-45\n"
     ]
    }
   ],
   "source": [
    "#3\n",
    "i=-22\n",
    "while(i>=-45):\n",
    "    print(i)\n",
    "    i=i-1"
   ]
  },
  {
   "cell_type": "code",
   "execution_count": 73,
   "metadata": {},
   "outputs": [
    {
     "name": "stdout",
     "output_type": "stream",
     "text": [
      "sum is 2550 \n"
     ]
    }
   ],
   "source": [
    "#4\n",
    "sum=0\n",
    "i=0\n",
    "while(i<=100):\n",
    "    if(i%2==0):\n",
    "        sum=sum+i\n",
    "    i=i+1\n",
    "print('sum is {} '.format(sum))"
   ]
  },
  {
   "cell_type": "code",
   "execution_count": 1,
   "metadata": {},
   "outputs": [
    {
     "name": "stdout",
     "output_type": "stream",
     "text": [
      "143\n",
      "3\n",
      "4\n",
      "1\n"
     ]
    }
   ],
   "source": [
    "#5\n",
    "x=int(input())\n",
    "while(x>0):\n",
    "    y=int(x%10)\n",
    "    print(y)\n",
    "    x=x//10"
   ]
  },
  {
   "cell_type": "code",
   "execution_count": 7,
   "metadata": {},
   "outputs": [
    {
     "name": "stdout",
     "output_type": "stream",
     "text": [
      "1245\n",
      "6\n"
     ]
    }
   ],
   "source": [
    "#6\n",
    "n=int(input())\n",
    "sum=0\n",
    "while(n>0):\n",
    "    if(n%10%2==0):\n",
    "        sum=sum+n%10\n",
    "    n=n//10\n",
    "print(sum)"
   ]
  },
  {
   "cell_type": "code",
   "execution_count": 8,
   "metadata": {},
   "outputs": [
    {
     "name": "stdout",
     "output_type": "stream",
     "text": [
      "143\n",
      "three\n",
      "four\n",
      "one\n"
     ]
    }
   ],
   "source": [
    "#7\n",
    "x=int(input())\n",
    "while(x>0):\n",
    "    y=int(x%10)\n",
    "    if(y==0) : print( \"zero\")\n",
    "    elif(y==1): print( \"one\")\n",
    "    elif(y==2): print( \"two\")\n",
    "    elif(y==3): print( \"three\")\n",
    "    elif(y==4): print( \"four\")\n",
    "    elif(y==5): print( \"five\")\n",
    "    elif(y==6): print( \"six\")\n",
    "    elif(y==7): print( \"seven\")\n",
    "    elif(y==8): print( \"eight\")\n",
    "    elif(y==9): print( \"nine\")\n",
    "    x=x//10"
   ]
  },
  {
   "cell_type": "code",
   "execution_count": null,
   "metadata": {},
   "outputs": [
    {
     "name": "stdout",
     "output_type": "stream",
     "text": [
      "first2\n",
      "second120\n",
      "third220\n"
     ]
    }
   ],
   "source": [
    "a=int(input('first'))\n",
    "b=int(input('second'))\n",
    "c=int(input('third'))\n",
    "ct=0\n",
    "while (b<=c):\n",
    "    x=b\n",
    "    while(x>0):\n",
    "        d=int(x%10)\n",
    "        if (d==a):ct=ct+1\n",
    "        x=x//10\n",
    "        b=x\n",
    "    b=b+1\n",
    "print(ct)"
   ]
  },
  {
   "cell_type": "code",
   "execution_count": null,
   "metadata": {},
   "outputs": [],
   "source": []
  }
 ],
 "metadata": {
  "kernelspec": {
   "display_name": "Python 3",
   "language": "python",
   "name": "python3"
  },
  "language_info": {
   "codemirror_mode": {
    "name": "ipython",
    "version": 3
   },
   "file_extension": ".py",
   "mimetype": "text/x-python",
   "name": "python",
   "nbconvert_exporter": "python",
   "pygments_lexer": "ipython3",
   "version": "3.7.3"
  }
 },
 "nbformat": 4,
 "nbformat_minor": 2
}
