{
 "cells": [
  {
   "cell_type": "markdown",
   "metadata": {},
   "source": [
    "# Binary search for sorted"
   ]
  },
  {
   "cell_type": "code",
   "execution_count": null,
   "metadata": {},
   "outputs": [],
   "source": [
    "\n",
    "def binarysearch(a,lindex,rindex,taritem):\n",
    " while lindex <= rindex:\n",
    "   mindex=lindex+(rindex-lindex)//2\n",
    "   if a[mindex]==taritem:\n",
    "     return mindex\n",
    "   if a[mindex]>taritem:\n",
    "     rindex=mindex-1\n",
    "   else:\n",
    "     lindex=mindex+1\n",
    " return -1\n",
    "list1=[1,4,9,15,25,45,57,88,98]\n",
    "res=binarysearch(list1,0,8,45)\n",
    "if res!=-1:\n",
    " print('Item is found')\n",
    "else:\n",
    " print('Item is not found')"
   ]
  },
  {
   "cell_type": "markdown",
   "metadata": {},
   "source": [
    "# bubble sort"
   ]
  },
  {
   "cell_type": "code",
   "execution_count": 4,
   "metadata": {},
   "outputs": [
    {
     "name": "stdout",
     "output_type": "stream",
     "text": [
      "size5\n",
      "1\n",
      "2\n",
      "8\n",
      "9\n",
      "4\n",
      "Sorted array is:\n",
      "1 2 4 8 9 "
     ]
    }
   ],
   "source": [
    "n = int(input('size'))\n",
    "def bubbleSort(arr):\n",
    "    for i in range(n):\n",
    "        for j in range(0, n-i-1):\n",
    "            if arr[j] > arr[j+1] :\n",
    "                arr[j], arr[j+1] = arr[j+1], arr[j]\n",
    "arr = [int(input())for i in range(n)]\n",
    "bubbleSort(arr)\n",
    "print (\"Sorted array is:\")\n",
    "for i in range(len(arr)):\n",
    "    print (\"%d \" %arr[i],end='')"
   ]
  },
  {
   "cell_type": "markdown",
   "metadata": {},
   "source": [
    "# Binary search for unsorted"
   ]
  },
  {
   "cell_type": "code",
   "execution_count": 6,
   "metadata": {},
   "outputs": [
    {
     "name": "stdout",
     "output_type": "stream",
     "text": [
      "size5\n",
      "1\n",
      "9\n",
      "2\n",
      "3\n",
      "4\n",
      "search element9\n",
      "Item is found at position 4\n"
     ]
    }
   ],
   "source": [
    "n = int(input('size'))\n",
    "arr = [int(input())for i in range(n)]\n",
    "arr.sort()\n",
    "def binarysearch(arr,lindex,rindex,taritem):\n",
    "    while lindex <= rindex:\n",
    "        mindex=lindex+(rindex-lindex)//2\n",
    "        if arr[mindex]==taritem:\n",
    "            return mindex\n",
    "        elif arr[mindex]>taritem:\n",
    "            rindex=mindex-1\n",
    "        elif arr[mindex]<taritem:\n",
    "            lindex=mindex+1\n",
    "        else :\n",
    "          return -1\n",
    "k=int(input('search element'))\n",
    "res=binarysearch(arr,0,n-1,k)\n",
    "if res!=-1:\n",
    "  print('Item is found at position %d' %res)\n",
    "else:\n",
    "  print('Item is not found')"
   ]
  },
  {
   "cell_type": "markdown",
   "metadata": {},
   "source": [
    "# Strings in Python\n",
    "\n",
    "A string is a sequence of characters.\n",
    "\n",
    "The conversion of character to a number is happens with ASCII Number\n",
    "\n",
    "ASCII Numbers:\n",
    "\n",
    "A - Z  ---------  65 - 90\n",
    "\n",
    "a - z   ---------  97 - 122\n",
    "\n",
    "0 - 9   --------   48 - 57"
   ]
  },
  {
   "cell_type": "code",
   "execution_count": 7,
   "metadata": {},
   "outputs": [
    {
     "name": "stdout",
     "output_type": "stream",
     "text": [
      "Application\n",
      "Application\n",
      "Application Test\n",
      "        working\n",
      "        Completed\n",
      "        List\n",
      "        Strings\n",
      "        Python\n"
     ]
    }
   ],
   "source": [
    "# Creating a string\n",
    "str = \"Application\"\n",
    "print(str)\n",
    "str1 = 'Application'\n",
    "print(str1)\n",
    "str2= \"\"\"Application Test\n",
    "        working\n",
    "        Completed\n",
    "        List\n",
    "        Strings\n",
    "        Python\"\"\"\n",
    "print(str2)"
   ]
  },
  {
   "cell_type": "code",
   "execution_count": 8,
   "metadata": {},
   "outputs": [
    {
     "name": "stdout",
     "output_type": "stream",
     "text": [
      "Application\n",
      "str[0]  =  A\n",
      "str[1]  =  p\n",
      "str[-1] =  n\n",
      "str[-3] =  i\n",
      "str[1:5]=  ppli\n",
      "str[:5] =  Appli\n",
      "str[:-5]=  Applic\n",
      "str[5:-2]=  cati\n",
      "str[::-1]=  noitacilppA\n"
     ]
    }
   ],
   "source": [
    "str = \"Application\"\n",
    "print(str)\n",
    "print(\"str[0]  = \",str[0])\n",
    "print(\"str[1]  = \",str[1])\n",
    "print(\"str[-1] = \",str[-1])\n",
    "print(\"str[-3] = \",str[-3])\n",
    "print(\"str[1:5]= \",str[1:5])\n",
    "print(\"str[:5] = \",str[:5])\n",
    "print(\"str[:-5]= \",str[:-5])\n",
    "print(\"str[5:-2]= \",str[5:-2])\n",
    "print(\"str[::-1]= \",str[::-1])"
   ]
  },
  {
   "cell_type": "markdown",
   "metadata": {},
   "source": [
    "### Palidrome of string"
   ]
  },
  {
   "cell_type": "code",
   "execution_count": 9,
   "metadata": {},
   "outputs": [
    {
     "name": "stdout",
     "output_type": "stream",
     "text": [
      "False\n",
      "True\n"
     ]
    }
   ],
   "source": [
    "def ispalindrome(s):\n",
    "  if s == s[::-1]:\n",
    "    return True\n",
    "  else:\n",
    "    return False\n",
    "print(ispalindrome(\"Python\"))\n",
    "print(ispalindrome(\"jalaj\"))"
   ]
  },
  {
   "cell_type": "code",
   "execution_count": 10,
   "metadata": {},
   "outputs": [
    {
     "name": "stdout",
     "output_type": "stream",
     "text": [
      "Enter a number5143534\n",
      "7\n"
     ]
    }
   ],
   "source": [
    "# Count the digits of a number\n",
    "n = int(input(\"Enter a number\"))\n",
    "cnt=0\n",
    "while n != 0:\n",
    "  cnt = cnt + 1\n",
    "  n = n // 10\n",
    "print(cnt)"
   ]
  },
  {
   "cell_type": "code",
   "execution_count": 11,
   "metadata": {},
   "outputs": [
    {
     "data": {
      "text/plain": [
       "5"
      ]
     },
     "execution_count": 11,
     "metadata": {},
     "output_type": "execute_result"
    }
   ],
   "source": [
    "def countdigits(n):\n",
    "  return len(n)\n",
    "countdigits(\"25410\")"
   ]
  },
  {
   "cell_type": "markdown",
   "metadata": {},
   "source": [
    "# String Examples\n",
    "\n",
    "Test Cases:-\n",
    "\n",
    "Application        --             2\n",
    "\n",
    "Test                     --             3"
   ]
  },
  {
   "cell_type": "code",
   "execution_count": 13,
   "metadata": {},
   "outputs": [
    {
     "name": "stdout",
     "output_type": "stream",
     "text": [
      "2\n",
      "3\n"
     ]
    }
   ],
   "source": [
    "def countuppercase(str):\n",
    "  cnt = 0\n",
    "  lst = list(str)\n",
    "  for x in range(len(lst)):\n",
    "    if ord(lst[x]) >= 65 and ord(lst[x]) <= 90:\n",
    "      cnt = cnt + 1\n",
    "  return cnt\n",
    "print(countuppercase(\"AppLication\"))\n",
    "print(countuppercase(\"TeST\"))"
   ]
  },
  {
   "cell_type": "markdown",
   "metadata": {},
   "source": [
    "# Print of Digits in a string\n",
    "\n",
    "Test Cases:\n",
    "\n",
    "Application 1889 -- 1889\n",
    "\n",
    "Te1520st -- 1520"
   ]
  },
  {
   "cell_type": "code",
   "execution_count": 50,
   "metadata": {},
   "outputs": [
    {
     "name": "stdout",
     "output_type": "stream",
     "text": [
      "1889\n",
      "\n",
      "1520"
     ]
    }
   ],
   "source": [
    "def printdigits(str):\n",
    "    lst = list(str)\n",
    "    for x in range(len(lst)):\n",
    "        if ord(lst[x]) >= 48 and ord(lst[x]) <= 57: \n",
    "            print(lst[x],end='')\n",
    "    return\n",
    "printdigits(\"Application1889\")\n",
    "print('\\n')\n",
    "printdigits(\"Te1520st\")"
   ]
  },
  {
   "cell_type": "code",
   "execution_count": 51,
   "metadata": {},
   "outputs": [
    {
     "data": {
      "text/plain": [
       "26"
      ]
     },
     "execution_count": 51,
     "metadata": {},
     "output_type": "execute_result"
    }
   ],
   "source": [
    "def sumofdigits(str):\n",
    "  sum = 0\n",
    "  lst = list(str)\n",
    "  for x in range(len(lst)):\n",
    "    if ord(lst[x]) >= 48 and ord(lst[x]) <= 57:\n",
    "      sum = sum + ord(lst[x]) - 48\n",
    "  return sum\n",
    "sumofdigits(\"Application1889\")\n"
   ]
  },
  {
   "cell_type": "code",
   "execution_count": 55,
   "metadata": {},
   "outputs": [
    {
     "data": {
      "text/plain": [
       "16"
      ]
     },
     "execution_count": 55,
     "metadata": {},
     "output_type": "execute_result"
    }
   ],
   "source": [
    "def sumofdigits(str):\n",
    "  sum = 0\n",
    "  lst = list(str)\n",
    "  for x in range(len(lst)):\n",
    "    if ord(lst[x]) >= 48 and ord(lst[x]) <= 57 and ord(lst[x])%2==0:\n",
    "      sum = sum + ord(lst[x]) - 48\n",
    "  return sum\n",
    "sumofdigits(\"Application1889\")\n"
   ]
  },
  {
   "cell_type": "markdown",
   "metadata": {},
   "source": [
    "# String character conversion\n",
    "\n",
    "If the input character is a upper case character then convert into lower case character.\n",
    "\n",
    "If the input character is a lower case character then convert into upper case character."
   ]
  },
  {
   "cell_type": "code",
   "execution_count": 1,
   "metadata": {},
   "outputs": [
    {
     "name": "stdout",
     "output_type": "stream",
     "text": [
      "enter a stringsTrInG\n",
      "StRiNg"
     ]
    }
   ],
   "source": [
    "#case conversion\n",
    "def cuc(s):\n",
    "    c=0\n",
    "    k=[]\n",
    "    l=list(s)\n",
    "    for x in range(len(l)):\n",
    "        if ord(l[x])>=65 and ord(l[x])<=90:\n",
    "            l[x]=ord(l[x])+32\n",
    "            k.append(chr(l[x]))\n",
    "        elif ord(l[x])>=97 and ord(l[x])<=122:\n",
    "            l[x]=ord(l[x])-32\n",
    "            k.append(chr(l[x]))\n",
    "        else:\n",
    "            k.append(l[x])\n",
    "    for x in range(len(k)):\n",
    "        print(k[x],end=\"\")\n",
    "s=input(\"enter a string\")\n",
    "cuc(s)"
   ]
  },
  {
   "cell_type": "code",
   "execution_count": 2,
   "metadata": {},
   "outputs": [
    {
     "name": "stdout",
     "output_type": "stream",
     "text": [
      "enter a stringpython is easy\n",
      "enter the word number2\n",
      "\u0000IS"
     ]
    }
   ],
   "source": [
    "#convert specific word to capital\n",
    "\n",
    "def cuc(s,n):\n",
    "    c=0\n",
    "    k=[]\n",
    "    l=list(s)\n",
    "    f=0\n",
    "    fl=0\n",
    "    for x in range(len(l)):\n",
    "        if ord(l[x])==32 :\n",
    "            f=f+1\n",
    "        if f==n-1 or fl==1:\n",
    "            fl==1\n",
    "            l[x]=ord(l[x])-32\n",
    "            k.append(chr(l[x]))\n",
    "        if f==n:\n",
    "            break\n",
    "    for x in range(len(k)):\n",
    "        print(k[x],end=\"\")\n",
    "            \n",
    "s=input(\"enter a string\")\n",
    "n=int(input(\"enter the word number\"))\n",
    "cuc(s,n)"
   ]
  },
  {
   "cell_type": "code",
   "execution_count": null,
   "metadata": {},
   "outputs": [],
   "source": []
  }
 ],
 "metadata": {
  "kernelspec": {
   "display_name": "Python 3",
   "language": "python",
   "name": "python3"
  },
  "language_info": {
   "codemirror_mode": {
    "name": "ipython",
    "version": 3
   },
   "file_extension": ".py",
   "mimetype": "text/x-python",
   "name": "python",
   "nbconvert_exporter": "python",
   "pygments_lexer": "ipython3",
   "version": "3.7.3"
  }
 },
 "nbformat": 4,
 "nbformat_minor": 2
}
